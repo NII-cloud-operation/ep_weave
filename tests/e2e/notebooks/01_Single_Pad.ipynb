{
 "cells": [
  {
   "cell_type": "code",
   "execution_count": null,
   "id": "27c7e4cb",
   "metadata": {
    "tags": [
     "parameters"
    ]
   },
   "outputs": [],
   "source": [
    "etherpad_url = \"http://localhost:9001/\"\n",
    "test_pad_title = \"New E2E Test Pad\"\n",
    "renamed_pad_title = \"Renamed E2E Test Pad\"\n",
    "default_result_path = None\n",
    "close_on_fail = False\n",
    "transition_timeout = 10000"
   ]
  },
  {
   "cell_type": "code",
   "execution_count": null,
   "id": "90d24304",
   "metadata": {},
   "outputs": [],
   "source": [
    "import tempfile\n",
    "\n",
    "work_dir = tempfile.mkdtemp()\n",
    "if default_result_path is None:\n",
    "    default_result_path = work_dir\n",
    "work_dir"
   ]
  },
  {
   "cell_type": "markdown",
   "id": "57a7c4e3",
   "metadata": {},
   "source": [
    "# ep_weave E2E Test - Single Pad\n",
    "\n",
    "- Test data to prepare: Not required"
   ]
  },
  {
   "cell_type": "code",
   "execution_count": null,
   "id": "cd4710f0",
   "metadata": {},
   "outputs": [],
   "source": [
    "import importlib\n",
    "\n",
    "import scripts.playwright\n",
    "importlib.reload(scripts.playwright)\n",
    "\n",
    "from scripts.playwright import *\n",
    "\n",
    "await init_pw_context(close_on_fail=close_on_fail, last_path=default_result_path)"
   ]
  },
  {
   "cell_type": "markdown",
   "id": "6553be79",
   "metadata": {},
   "source": [
    "## Open etherpad_url and check if the search box is editable.\n"
   ]
  },
  {
   "cell_type": "code",
   "execution_count": null,
   "id": "35151bbd",
   "metadata": {},
   "outputs": [],
   "source": [
    "index_page = None\n",
    "\n",
    "async def _step(page):\n",
    "    await page.goto(etherpad_url)\n",
    "\n",
    "    await expect(page.locator(\".hashview-search-box\")).to_be_editable()\n",
    "\n",
    "    global index_page\n",
    "    index_page = page\n",
    "\n",
    "await run_pw(_step)"
   ]
  },
  {
   "cell_type": "markdown",
   "id": "9ae824ac",
   "metadata": {},
   "source": [
    "## Fill the search box with test_pad_title and click the create button."
   ]
  },
  {
   "cell_type": "code",
   "execution_count": null,
   "id": "424ff4c1",
   "metadata": {},
   "outputs": [],
   "source": [
    "import re\n",
    "\n",
    "pad_page = None\n",
    "\n",
    "async def _step(page):\n",
    "    await page.locator(\".hashview-search-box\").fill(test_pad_title)\n",
    "    await expect(page.locator('//button[text()=\"Create\"]')).to_be_enabled()\n",
    "\n",
    "    # Wait for a new window to open with a title starting with test_pad_title\n",
    "    popup_future = page.wait_for_event('popup')\n",
    "    await page.locator('//button[text()=\"Create\"]').click()\n",
    "    popup = await popup_future\n",
    "    await expect(popup).to_have_title(re.compile(f\"^{test_pad_title}\"))\n",
    "\n",
    "    await expect(popup.locator('//iframe[@name=\"ace_outer\"]')).to_be_visible(timeout=transition_timeout)\n",
    "\n",
    "    global pad_page\n",
    "    pad_page = popup\n",
    "    return popup\n",
    "\n",
    "await run_pw(_step)"
   ]
  },
  {
   "cell_type": "markdown",
   "id": "f04688bd",
   "metadata": {},
   "source": [
    "## Edit the pad by appending \"Hello, World!\" and verify that the text appears in the pad."
   ]
  },
  {
   "cell_type": "code",
   "execution_count": null,
   "id": "80425819",
   "metadata": {},
   "outputs": [],
   "source": [
    "async def extract_ace_inner_docbody(page):\n",
    "    iframe_locator = page.frame_locator('iframe[name=\"ace_outer\"]').frame_locator('iframe[name=\"ace_inner\"]')\n",
    "    await expect(iframe_locator.locator('#innerdocbody')).to_be_visible(timeout=transition_timeout)\n",
    "    return iframe_locator.locator('#innerdocbody')\n",
    "\n",
    "async def _step(page):\n",
    "    inner_docbody = await extract_ace_inner_docbody(page)\n",
    "    await expect(inner_docbody).to_be_editable(timeout=transition_timeout)\n",
    "    inner_docbody.focus()\n",
    "\n",
    "    # To move the cursor to the end of line, use the End key\n",
    "    await inner_docbody.press(\"End\")\n",
    "    for _ in range(2):\n",
    "        await inner_docbody.press(\"Enter\")\n",
    "    await inner_docbody.type(\"Hello, World!\", delay=100)\n",
    "\n",
    "await run_pw(_step)"
   ]
  },
  {
   "cell_type": "markdown",
   "id": "42ff6b30",
   "metadata": {},
   "source": [
    "## Refresh the index page and verify that the created pad is listed."
   ]
  },
  {
   "cell_type": "code",
   "execution_count": null,
   "id": "fd377914",
   "metadata": {},
   "outputs": [],
   "source": [
    "async def _step(page):\n",
    "    await index_page.reload()\n",
    "    await expect(index_page.locator(f'text=\"{test_pad_title}\"')).to_be_visible(timeout=transition_timeout)\n",
    "\n",
    "    return index_page\n",
    "\n",
    "await run_pw(_step)"
   ]
  },
  {
   "cell_type": "markdown",
   "id": "4c874d63",
   "metadata": {},
   "source": [
    "## Search the created pad using the search box and verify that it only shows the created pad."
   ]
  },
  {
   "cell_type": "code",
   "execution_count": null,
   "id": "5e0fd665",
   "metadata": {},
   "outputs": [],
   "source": [
    "async def _step(page):\n",
    "    await page.locator(\".hashview-search-box\").fill(f'\"{test_pad_title}\"')\n",
    "    await page.keyboard.press(\"Enter\")\n",
    "    await expect(page.locator('.hash-link')).to_have_count(1, timeout=transition_timeout)\n",
    "\n",
    "await run_pw(_step)"
   ]
  },
  {
   "cell_type": "markdown",
   "id": "c9f9d136",
   "metadata": {},
   "source": [
    "## Rename the created pad"
   ]
  },
  {
   "cell_type": "code",
   "execution_count": null,
   "id": "fb95b29e",
   "metadata": {},
   "outputs": [],
   "source": [
    "async def _step(page):\n",
    "    page = pad_page\n",
    "    inner_docbody = await extract_ace_inner_docbody(page)\n",
    "    await inner_docbody.focus()\n",
    "    for _ in range(3):\n",
    "        await inner_docbody.press(\"ArrowUp\")\n",
    "    await inner_docbody.press(\"End\")\n",
    "    for _ in range(len(test_pad_title) + 1):\n",
    "        await inner_docbody.press(\"Backspace\")\n",
    "    await inner_docbody.type(renamed_pad_title, delay=100)\n",
    "    await inner_docbody.press(\"Enter\")\n",
    "\n",
    "    await expect(page).to_have_title(re.compile(f\"^{renamed_pad_title}\"), timeout=transition_timeout)\n",
    "    return page\n",
    "\n",
    "await run_pw(_step)"
   ]
  },
  {
   "cell_type": "markdown",
   "id": "193ce081",
   "metadata": {},
   "source": [
    "## Refresh the index page and verify that the renamed pad is listed."
   ]
  },
  {
   "cell_type": "code",
   "execution_count": null,
   "id": "c0b1dd5c",
   "metadata": {},
   "outputs": [],
   "source": [
    "import asyncio\n",
    "import traceback\n",
    "\n",
    "async def _step(page):\n",
    "    # Reload the index page multiple times to ensure the change is reflected\n",
    "    retries = 3\n",
    "    for attempt in range(retries):\n",
    "        try:\n",
    "            await index_page.goto(etherpad_url)\n",
    "            await expect(index_page.locator(f'text=\"{renamed_pad_title}\"')).to_be_visible(timeout=1000)\n",
    "            break\n",
    "        except Exception as e:\n",
    "            if attempt == retries - 1:\n",
    "                raise\n",
    "            print(f\"Error occurred: {e}, retrying... ({attempt + 1}/{retries})\")\n",
    "            traceback.print_exc()\n",
    "            await asyncio.sleep(1)  # Wait before retrying\n",
    "\n",
    "    return index_page\n",
    "\n",
    "await run_pw(_step)"
   ]
  },
  {
   "cell_type": "markdown",
   "id": "81a1f31d",
   "metadata": {},
   "source": [
    "## Search the created pad using the search box and verify that it only shows the created pad."
   ]
  },
  {
   "cell_type": "code",
   "execution_count": null,
   "id": "67f5ecb7",
   "metadata": {},
   "outputs": [],
   "source": [
    "async def _step(page):\n",
    "    await page.locator(\".hashview-search-box\").fill(f'\"{test_pad_title}\"')\n",
    "    await page.keyboard.press(\"Enter\")\n",
    "    await expect(page.locator('.hash-link')).to_have_count(0, timeout=transition_timeout)\n",
    "    await page.locator(\".hashview-search-box\").fill(f'\"{renamed_pad_title}\"')\n",
    "    await page.keyboard.press(\"Enter\")\n",
    "    await expect(page.locator('.hash-link')).to_have_count(1, timeout=transition_timeout)\n",
    "\n",
    "await run_pw(_step)"
   ]
  },
  {
   "cell_type": "markdown",
   "id": "817b589e",
   "metadata": {},
   "source": [
    "Clean up"
   ]
  },
  {
   "cell_type": "code",
   "execution_count": null,
   "id": "dd03f362",
   "metadata": {},
   "outputs": [],
   "source": [
    "await finish_pw_context()\n"
   ]
  },
  {
   "cell_type": "code",
   "execution_count": null,
   "id": "1f463fd1",
   "metadata": {},
   "outputs": [],
   "source": [
    "!rm -fr {work_dir}"
   ]
  }
 ],
 "metadata": {
  "kernelspec": {
   "display_name": "3.11.5",
   "language": "python",
   "name": "python3"
  },
  "language_info": {
   "codemirror_mode": {
    "name": "ipython",
    "version": 3
   },
   "file_extension": ".py",
   "mimetype": "text/x-python",
   "name": "python",
   "nbconvert_exporter": "python",
   "pygments_lexer": "ipython3",
   "version": "3.11.5"
  }
 },
 "nbformat": 4,
 "nbformat_minor": 5
}
