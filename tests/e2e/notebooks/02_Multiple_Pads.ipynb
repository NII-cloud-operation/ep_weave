{
 "cells": [
  {
   "cell_type": "code",
   "execution_count": null,
   "id": "7bf61559",
   "metadata": {
    "tags": [
     "parameters"
    ]
   },
   "outputs": [],
   "source": [
    "etherpad_url = \"http://localhost:9001/\"\n",
    "pad1_title = \"TestPad1\"\n",
    "pad2_title = \"TestPad2\"\n",
    "renamed_pad_title = \"TestPad3\"\n",
    "hash_tag_original = \"#TestPad2\"\n",
    "hash_tag_renamed = \"#TestPad3\"\n",
    "default_result_path = None\n",
    "close_on_fail = False\n",
    "transition_timeout = 10000\n",
    "\n",
    "index_page = None\n",
    "pad1_url = None\n",
    "pad2_url = None"
   ]
  },
  {
   "cell_type": "code",
   "execution_count": null,
   "id": "3e0ba71f",
   "metadata": {},
   "outputs": [],
   "source": [
    "import tempfile\n",
    "\n",
    "work_dir = tempfile.mkdtemp()\n",
    "if default_result_path is None:\n",
    "    default_result_path = work_dir\n",
    "work_dir"
   ]
  },
  {
   "cell_type": "markdown",
   "id": "e0d56c75",
   "metadata": {},
   "source": [
    "# ep_weave E2E Test - Multiple Pads\n",
    "\n",
    "- Test data to prepare: Not required"
   ]
  },
  {
   "cell_type": "code",
   "execution_count": null,
   "id": "e086d3d1",
   "metadata": {},
   "outputs": [],
   "source": [
    "import importlib\n",
    "\n",
    "import scripts.playwright\n",
    "importlib.reload(scripts.playwright)\n",
    "\n",
    "from scripts.playwright import *\n",
    "\n",
    "await init_pw_context(close_on_fail=close_on_fail, last_path=default_result_path)"
   ]
  },
  {
   "cell_type": "markdown",
   "id": "57295c47",
   "metadata": {},
   "source": [
    "## Open etherpad_url and confirm the search box is editable."
   ]
  },
  {
   "cell_type": "code",
   "execution_count": null,
   "id": "315e3267",
   "metadata": {},
   "outputs": [],
   "source": [
    "async def _step(page):\n",
    "    await page.goto(etherpad_url)\n",
    "    await expect(page.locator(\".hashview-search-box\")).to_be_editable()\n",
    "\n",
    "    global index_page\n",
    "    index_page = page\n",
    "\n",
    "await run_pw(_step)"
   ]
  },
  {
   "cell_type": "markdown",
   "id": "6be45be6",
   "metadata": {},
   "source": [
    "## Create TestPad1 from the search box."
   ]
  },
  {
   "cell_type": "code",
   "execution_count": null,
   "id": "087bc6d7",
   "metadata": {},
   "outputs": [],
   "source": [
    "import re\n",
    "\n",
    "async def _step(page):\n",
    "    await page.locator(\".hashview-search-box\").fill(pad1_title)\n",
    "    await expect(page.locator('//button[text()=\"Create\"]')).to_be_enabled()\n",
    "\n",
    "    popup_future = page.wait_for_event('popup')\n",
    "    await page.locator('//button[text()=\"Create\"]').click()\n",
    "    popup = await popup_future\n",
    "    await expect(popup).to_have_title(re.compile(f\"^{pad1_title}\"))\n",
    "    await expect(popup.locator('//iframe[@name=\"ace_outer\"]')).to_be_visible(timeout=transition_timeout)\n",
    "\n",
    "    global pad1_url\n",
    "    pad1_url = popup.url\n",
    "    return popup\n",
    "\n",
    "await run_pw(_step)"
   ]
  },
  {
   "cell_type": "markdown",
   "id": "e04d698c",
   "metadata": {},
   "source": [
    "## Append the hash tag to TestPad1."
   ]
  },
  {
   "cell_type": "code",
   "execution_count": null,
   "id": "eee88905",
   "metadata": {},
   "outputs": [],
   "source": [
    "async def extract_ace_inner_docbody(page):\n",
    "    iframe_locator = page.frame_locator('iframe[name=\"ace_outer\"]').frame_locator('iframe[name=\"ace_inner\"]')\n",
    "    await expect(iframe_locator.locator('#innerdocbody')).to_be_visible(timeout=transition_timeout)\n",
    "    return iframe_locator.locator('#innerdocbody')\n",
    "\n",
    "async def _step(page):\n",
    "    inner_docbody = await extract_ace_inner_docbody(page)\n",
    "    await expect(inner_docbody).to_be_editable(timeout=transition_timeout)\n",
    "    await inner_docbody.focus()\n",
    "    await inner_docbody.press(\"End\")\n",
    "    for _ in range(2):\n",
    "        await inner_docbody.press(\"Enter\")\n",
    "    await inner_docbody.type(hash_tag_original, delay=100)\n",
    "    await expect(inner_docbody).to_contain_text(hash_tag_original, timeout=transition_timeout)\n",
    "\n",
    "await run_pw(_step)"
   ]
  },
  {
   "cell_type": "markdown",
   "id": "64c8ba9a",
   "metadata": {},
   "source": [
    "## Verify the rollup shows the create link for TestPad2."
   ]
  },
  {
   "cell_type": "code",
   "execution_count": null,
   "id": "8979dca5",
   "metadata": {},
   "outputs": [],
   "source": [
    "async def _step(page):\n",
    "    hash_create_link = page.locator('.hash-link.hash-create .hash-title a')\n",
    "    await expect(hash_create_link).to_have_text(pad2_title, timeout=transition_timeout)\n",
    "    await hash_create_link.scroll_into_view_if_needed()\n",
    "\n",
    "await run_pw(_step)"
   ]
  },
  {
   "cell_type": "markdown",
   "id": "dcb8cd19",
   "metadata": {},
   "source": [
    "## Open TestPad2 from the rollup create link."
   ]
  },
  {
   "cell_type": "code",
   "execution_count": null,
   "id": "5c93e838",
   "metadata": {},
   "outputs": [],
   "source": [
    "async def _step(page):\n",
    "    hash_create_link = page.locator('.hash-link.hash-create .hash-title a')\n",
    "    await hash_create_link.click()\n",
    "    await page.wait_for_load_state('networkidle')\n",
    "    await expect(page).to_have_title(re.compile(f\"^{pad2_title}\"))\n",
    "\n",
    "    hash_link = page.locator('.hash-link:not(.hash-create) .hash-title a')\n",
    "    await expect(hash_link).to_have_text(pad1_title, timeout=transition_timeout)\n",
    "    await hash_link.scroll_into_view_if_needed()\n",
    "\n",
    "    global pad2_url\n",
    "    pad2_url = page.url\n",
    "\n",
    "await run_pw(_step)"
   ]
  },
  {
   "cell_type": "markdown",
   "id": "53706727",
   "metadata": {},
   "source": [
    "## Reload TestPad1 and ensure TestPad2 appears in the rollup."
   ]
  },
  {
   "cell_type": "code",
   "execution_count": null,
   "id": "78b711d2",
   "metadata": {},
   "outputs": [],
   "source": [
    "async def _step(page):\n",
    "    await page.goto(pad1_url)\n",
    "    await page.wait_for_load_state('networkidle')\n",
    "    await expect(page).to_have_title(re.compile(f\"^{pad1_title}\"))\n",
    "\n",
    "    hash_link = page.locator('.hash-link:not(.hash-create) .hash-title a')\n",
    "    await expect(hash_link).to_have_text(pad2_title, timeout=transition_timeout)\n",
    "    await hash_link.scroll_into_view_if_needed()\n",
    "\n",
    "    await page.goto(pad2_url)\n",
    "    await page.wait_for_load_state('networkidle')\n",
    "    await expect(page).to_have_title(re.compile(f\"^{pad2_title}\"))\n",
    "\n",
    "    hash_link = page.locator('.hash-link:not(.hash-create) .hash-title a')\n",
    "    await expect(hash_link).to_have_text(pad1_title, timeout=transition_timeout)\n",
    "    await hash_link.scroll_into_view_if_needed()\n",
    "\n",
    "await run_pw(_step)"
   ]
  },
  {
   "cell_type": "markdown",
   "id": "336a9091",
   "metadata": {},
   "source": [
    "## Rename TestPad2 to TestPad3."
   ]
  },
  {
   "cell_type": "code",
   "execution_count": null,
   "id": "7273ff11",
   "metadata": {},
   "outputs": [],
   "source": [
    "import asyncio\n",
    "\n",
    "async def _step(page):\n",
    "    inner_docbody = await extract_ace_inner_docbody(page)\n",
    "    await inner_docbody.focus()\n",
    "    for _ in range(3):\n",
    "        await inner_docbody.press(\"ArrowUp\")\n",
    "    await inner_docbody.press(\"End\")\n",
    "    for _ in range(len(pad2_title) + 1):\n",
    "        await inner_docbody.press(\"Backspace\")\n",
    "    await inner_docbody.type(renamed_pad_title, delay=100)\n",
    "    await inner_docbody.press(\"Enter\")\n",
    "\n",
    "    await page.wait_for_load_state('networkidle')\n",
    "    await asyncio.sleep(1)  # Wait a moment to ensure the title change is processed\n",
    "    await expect(page).to_have_title(re.compile(f\"^{renamed_pad_title}\"), timeout=transition_timeout)\n",
    "\n",
    "    # Wait for the change title button to appear to ensure the title change is processed\n",
    "    change_title_button = page.locator('.hashview-change-title')\n",
    "    await expect(change_title_button).to_be_visible(timeout=transition_timeout)\n",
    "    await expect(change_title_button).to_have_text(f'Title changed: {renamed_pad_title} from {pad2_title}', timeout=transition_timeout)\n",
    "\n",
    "    # No links for renamed pad - ensure no old links are present\n",
    "    old_hash_link = page.locator(f'.hash-link:not(.hash-create) .hash-title:has-text(\"{pad1_title}\")')\n",
    "    await expect(old_hash_link).to_have_count(0, timeout=transition_timeout)\n",
    "\n",
    "    global pad2_url\n",
    "    pad2_url = page.url\n",
    "\n",
    "await run_pw(_step)"
   ]
  },
  {
   "cell_type": "markdown",
   "id": "549c5d7a",
   "metadata": {},
   "source": [
    "## Click the change title banner to update the hash link."
   ]
  },
  {
   "cell_type": "code",
   "execution_count": null,
   "id": "801a2380",
   "metadata": {},
   "outputs": [],
   "source": [
    "import asyncio\n",
    "import traceback\n",
    "\n",
    "async def _step(page):\n",
    "    change_title_button = page.locator('.hashview-change-title')\n",
    "    await expect(change_title_button).to_be_visible(timeout=transition_timeout)\n",
    "    await expect(change_title_button).to_contain_text(\n",
    "        f'Title changed: {renamed_pad_title} from {pad2_title}', timeout=transition_timeout\n",
    "    )\n",
    "    await change_title_button.click()\n",
    "\n",
    "    await expect(change_title_button).not_to_be_visible(timeout=transition_timeout)\n",
    "    await page.wait_for_load_state('networkidle')\n",
    "\n",
    "    # Retry until the link reappears\n",
    "    for _ in range(5):\n",
    "        try:\n",
    "            await page.reload()\n",
    "            hash_link = page.locator('.hash-link:not(.hash-create) .hash-title a')\n",
    "            await expect(hash_link).to_have_text(pad1_title, timeout=transition_timeout)\n",
    "            await hash_link.scroll_into_view_if_needed()\n",
    "            break\n",
    "        except:\n",
    "            if _ == 4:\n",
    "                raise\n",
    "            print(f\"Retrying after failure... ({_ + 1}/5)\")\n",
    "            traceback.print_exc()\n",
    "            await asyncio.sleep(2)\n",
    "\n",
    "await run_pw(_step)"
   ]
  },
  {
   "cell_type": "markdown",
   "id": "34661d55",
   "metadata": {},
   "source": [
    "## Confirm the hash in TestPad1 updates to #TestPad3."
   ]
  },
  {
   "cell_type": "code",
   "execution_count": null,
   "id": "72263cd7",
   "metadata": {},
   "outputs": [],
   "source": [
    "async def _step(page):\n",
    "    await page.goto(pad1_url)\n",
    "    await page.wait_for_load_state('networkidle')\n",
    "    await expect(page).to_have_title(re.compile(f\"^{pad1_title}\"))\n",
    "\n",
    "    inner_docbody = await extract_ace_inner_docbody(page)\n",
    "    await expect(inner_docbody).to_contain_text(hash_tag_renamed, timeout=transition_timeout)\n",
    "    await expect(inner_docbody).not_to_contain_text(hash_tag_original)\n",
    "\n",
    "await run_pw(_step)"
   ]
  },
  {
   "cell_type": "markdown",
   "id": "3b70e6ca",
   "metadata": {},
   "source": [
    "Clean up"
   ]
  },
  {
   "cell_type": "code",
   "execution_count": null,
   "id": "d4961e01",
   "metadata": {},
   "outputs": [],
   "source": [
    "await finish_pw_context()"
   ]
  },
  {
   "cell_type": "code",
   "execution_count": null,
   "id": "cafe2917",
   "metadata": {},
   "outputs": [],
   "source": [
    "!rm -fr {work_dir}"
   ]
  }
 ],
 "metadata": {
  "kernelspec": {
   "display_name": "3.11.5",
   "language": "python",
   "name": "python3"
  },
  "language_info": {
   "codemirror_mode": {
    "name": "ipython",
    "version": 3
   },
   "file_extension": ".py",
   "mimetype": "text/x-python",
   "name": "python",
   "nbconvert_exporter": "python",
   "pygments_lexer": "ipython3",
   "version": "3.11.5"
  }
 },
 "nbformat": 4,
 "nbformat_minor": 5
}
