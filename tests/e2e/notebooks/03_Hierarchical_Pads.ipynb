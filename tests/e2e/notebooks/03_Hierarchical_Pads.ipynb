{
 "cells": [
  {
   "cell_type": "code",
   "execution_count": null,
   "id": "96cd08bb",
   "metadata": {
    "tags": [
     "parameters"
    ]
   },
   "outputs": [],
   "source": [
    "etherpad_url = \"http://localhost:9001/\"\n",
    "root_pad_title = \"HierarchyRoot\"\n",
    "root_pad_renamed_title = \"HierarchyRootRenamed\"\n",
    "child_pad_title = \"HierarchyRoot/SubPad\"\n",
    "child_pad_renamed_title = \"HierarchyRootRenamed/SubPad\"\n",
    "additional_child_pad_title = \"HierarchyRootRenamed/SubPad2\"\n",
    "hash_tag_child = f\"#{child_pad_title}\"\n",
    "hash_tag_child_renamed = f\"#{child_pad_renamed_title}\"\n",
    "default_result_path = None\n",
    "close_on_fail = False\n",
    "transition_timeout = 10000\n",
    "\n",
    "index_page = None\n",
    "root_pad_url = None\n",
    "child_pad_url = None\n",
    "additional_child_pad_url = None"
   ]
  },
  {
   "cell_type": "code",
   "execution_count": null,
   "id": "04032b79",
   "metadata": {},
   "outputs": [],
   "source": [
    "import tempfile\n",
    "\n",
    "work_dir = tempfile.mkdtemp()\n",
    "if default_result_path is None:\n",
    "    default_result_path = work_dir\n",
    "work_dir"
   ]
  },
  {
   "cell_type": "markdown",
   "id": "e3f71eb6",
   "metadata": {},
   "source": [
    "# ep_weave E2E Test - Hierarchical Pads\n",
    "\n",
    "- Test data to prepare: Not required"
   ]
  },
  {
   "cell_type": "code",
   "execution_count": null,
   "id": "d8db260b",
   "metadata": {},
   "outputs": [],
   "source": [
    "import importlib\n",
    "\n",
    "import scripts.playwright\n",
    "importlib.reload(scripts.playwright)\n",
    "\n",
    "from scripts.playwright import *\n",
    "\n",
    "await init_pw_context(close_on_fail=close_on_fail, last_path=default_result_path)"
   ]
  },
  {
   "cell_type": "markdown",
   "id": "c2c71b63",
   "metadata": {},
   "source": [
    "## Open etherpad_url and confirm the search box is editable."
   ]
  },
  {
   "cell_type": "code",
   "execution_count": null,
   "id": "63d3e812",
   "metadata": {},
   "outputs": [],
   "source": [
    "async def _step(page):\n",
    "    await page.goto(etherpad_url)\n",
    "    await expect(page.locator(\".hashview-search-box\")).to_be_editable()\n",
    "\n",
    "    global index_page\n",
    "    index_page = page\n",
    "\n",
    "await run_pw(_step)"
   ]
  },
  {
   "cell_type": "markdown",
   "id": "a9d46b65",
   "metadata": {},
   "source": [
    "## Create HierarchyRoot from the search box."
   ]
  },
  {
   "cell_type": "code",
   "execution_count": null,
   "id": "c6487c63",
   "metadata": {},
   "outputs": [],
   "source": [
    "import re\n",
    "\n",
    "async def _step(page):\n",
    "    await page.locator(\".hashview-search-box\").fill(root_pad_title)\n",
    "    await expect(page.locator('//button[text()=\"Create\"]')).to_be_enabled()\n",
    "\n",
    "    popup_future = page.wait_for_event('popup')\n",
    "    await page.locator('//button[text()=\"Create\"]').click()\n",
    "    popup = await popup_future\n",
    "    await expect(popup).to_have_title(re.compile(f\"^{root_pad_title}\"))\n",
    "    await expect(popup.locator('//iframe[@name=\"ace_outer\"]')).to_be_visible(timeout=transition_timeout)\n",
    "\n",
    "    global root_pad_url\n",
    "    root_pad_url = popup.url\n",
    "    return popup\n",
    "\n",
    "await run_pw(_step)"
   ]
  },
  {
   "cell_type": "markdown",
   "id": "782af6ee",
   "metadata": {},
   "source": [
    "## Append the hierarchical hash tag to HierarchyRoot."
   ]
  },
  {
   "cell_type": "code",
   "execution_count": null,
   "id": "c4a76753",
   "metadata": {},
   "outputs": [],
   "source": [
    "import asyncio\n",
    "\n",
    "async def extract_ace_inner_docbody(page):\n",
    "    iframe_locator = page.frame_locator('iframe[name=\"ace_outer\"]').frame_locator('iframe[name=\"ace_inner\"]')\n",
    "    await expect(iframe_locator.locator('#innerdocbody')).to_be_visible(timeout=transition_timeout)\n",
    "    return iframe_locator.locator('#innerdocbody')\n",
    "\n",
    "async def _step(page):\n",
    "    inner_docbody = await extract_ace_inner_docbody(page)\n",
    "    await expect(inner_docbody).to_be_editable(timeout=transition_timeout)\n",
    "    await inner_docbody.focus()\n",
    "    await inner_docbody.press('End')\n",
    "    for _ in range(2):\n",
    "        await inner_docbody.press('Enter')\n",
    "    await inner_docbody.type(hash_tag_child, delay=100)\n",
    "    await expect(inner_docbody).to_contain_text(hash_tag_child, timeout=transition_timeout)\n",
    "    await page.wait_for_load_state('networkidle')\n",
    "    await asyncio.sleep(1)  # wait for the flush to the server\n",
    "\n",
    "await run_pw(_step)"
   ]
  },
  {
   "cell_type": "markdown",
   "id": "05eb0813",
   "metadata": {},
   "source": [
    "## Verify the rollup shows the create link for the nested pad."
   ]
  },
  {
   "cell_type": "code",
   "execution_count": null,
   "id": "4f9610e8",
   "metadata": {},
   "outputs": [],
   "source": [
    "async def _step(page):\n",
    "    hash_create_link = page.locator('.hash-link.hash-create .hash-title a')\n",
    "    await expect(hash_create_link).to_have_text(child_pad_title, timeout=transition_timeout)\n",
    "\n",
    "await run_pw(_step)"
   ]
  },
  {
   "cell_type": "markdown",
   "id": "f05c6bf8",
   "metadata": {},
   "source": [
    "## Open HierarchyRoot/SubPad from the rollup create link."
   ]
  },
  {
   "cell_type": "code",
   "execution_count": null,
   "id": "1b6ed290",
   "metadata": {},
   "outputs": [],
   "source": [
    "async def _step(page):\n",
    "    hash_create_link = page.locator('.hash-link.hash-create .hash-title a')\n",
    "    await hash_create_link.click()\n",
    "    await page.wait_for_load_state('networkidle')\n",
    "    await expect(page).to_have_title(re.compile(f\"^{child_pad_title}\"))\n",
    "\n",
    "    global child_pad_url\n",
    "    child_pad_url = page.url\n",
    "\n",
    "await run_pw(_step)"
   ]
  },
  {
   "cell_type": "markdown",
   "id": "f353a886",
   "metadata": {},
   "source": [
    "## Reload HierarchyRoot and ensure the nested pad appears in the rollup."
   ]
  },
  {
   "cell_type": "code",
   "execution_count": null,
   "id": "9eed3836",
   "metadata": {},
   "outputs": [],
   "source": [
    "async def _step(page):\n",
    "    await page.goto(root_pad_url)\n",
    "    await page.wait_for_load_state('networkidle')\n",
    "    await expect(page).to_have_title(re.compile(f\"^{root_pad_title}\"))\n",
    "\n",
    "    hash_link = page.locator('.hash-link:not(.hash-create) .hash-title a', has_text=child_pad_title)\n",
    "    await expect(hash_link).to_have_count(2, timeout=transition_timeout)\n",
    "\n",
    "    await page.goto(child_pad_url)\n",
    "    await page.wait_for_load_state('networkidle')\n",
    "    await expect(page).to_have_title(re.compile(f\"^{child_pad_title}\"))\n",
    "\n",
    "await run_pw(_step)"
   ]
  },
  {
   "cell_type": "markdown",
   "id": "17f62c7b",
   "metadata": {},
   "source": [
    "## Open HierarychyRoot from the breadcrumbs."
   ]
  },
  {
   "cell_type": "code",
   "execution_count": null,
   "id": "a53bea51",
   "metadata": {},
   "outputs": [],
   "source": [
    "async def _step(page):\n",
    "    parent_link = page.locator(f'//a[contains(@class, \"hashview-path-segment\") and text()=\"{root_pad_title}\"]')\n",
    "    await expect(parent_link).to_be_visible(timeout=transition_timeout)\n",
    "\n",
    "    await parent_link.click()\n",
    "    await page.wait_for_load_state('networkidle')\n",
    "\n",
    "await run_pw(_step)"
   ]
  },
  {
   "cell_type": "markdown",
   "id": "f4b2c343",
   "metadata": {},
   "source": [
    "## Rename HierarchyRoot to HierarchyRootRenamed."
   ]
  },
  {
   "cell_type": "code",
   "execution_count": null,
   "id": "fa61f18f",
   "metadata": {},
   "outputs": [],
   "source": [
    "async def _step(page):    \n",
    "    inner_docbody = await extract_ace_inner_docbody(page)\n",
    "    await inner_docbody.focus()\n",
    "    for _ in range(3):\n",
    "        await inner_docbody.press('ArrowUp')\n",
    "    await inner_docbody.press('End')\n",
    "    for _ in range(len(root_pad_title) + 1):\n",
    "        await inner_docbody.press('Backspace', delay=100)\n",
    "    await inner_docbody.type(root_pad_renamed_title, delay=100)\n",
    "    await inner_docbody.press('Enter')\n",
    "\n",
    "    await expect(page).to_have_title(re.compile(f\"^{root_pad_renamed_title}\"), timeout=transition_timeout)\n",
    "\n",
    "await run_pw(_step)"
   ]
  },
  {
   "cell_type": "markdown",
   "id": "f09e9a60",
   "metadata": {},
   "source": [
    "## Apply the change-title banner to update hashes."
   ]
  },
  {
   "cell_type": "code",
   "execution_count": null,
   "id": "f62702f8",
   "metadata": {},
   "outputs": [],
   "source": [
    "import asyncio\n",
    "\n",
    "async def _step(page):\n",
    "    change_title_button = page.locator('.hashview-change-title')\n",
    "    await expect(change_title_button).to_be_visible(timeout=transition_timeout)\n",
    "    await expect(change_title_button).to_contain_text(\n",
    "        f'Title changed: {root_pad_renamed_title} from {root_pad_title}', timeout=transition_timeout\n",
    "    )\n",
    "    await change_title_button.click()\n",
    "    await page.wait_for_load_state('networkidle')\n",
    "    await asyncio.sleep(1)  # wait for the flush to the server\n",
    "\n",
    "await run_pw(_step)"
   ]
  },
  {
   "cell_type": "markdown",
   "id": "eb24ae8b",
   "metadata": {},
   "source": [
    "## Confirm HierarchyRoot now contains #HierarchyRootRenamed/SubPad."
   ]
  },
  {
   "cell_type": "code",
   "execution_count": null,
   "id": "21980bff",
   "metadata": {},
   "outputs": [],
   "source": [
    "async def _step(page):\n",
    "    await page.goto(root_pad_url)\n",
    "    await page.wait_for_load_state('networkidle')\n",
    "    await expect(page).to_have_title(re.compile(f\"^{root_pad_renamed_title}\"))\n",
    "\n",
    "    inner_docbody = await extract_ace_inner_docbody(page)\n",
    "    await expect(inner_docbody).to_contain_text(hash_tag_child_renamed, timeout=transition_timeout)\n",
    "    await expect(inner_docbody).not_to_contain_text(hash_tag_child)\n",
    "\n",
    "    hash_link = page.locator('.hash-link .hash-title a', has_text=child_pad_renamed_title)\n",
    "    await expect(hash_link).to_have_count(2, timeout=transition_timeout)\n",
    "\n",
    "await run_pw(_step)"
   ]
  },
  {
   "cell_type": "markdown",
   "id": "2761b52a",
   "metadata": {},
   "source": [
    "## Verify the child pad reflects the renamed hierarchy."
   ]
  },
  {
   "cell_type": "code",
   "execution_count": null,
   "id": "8fb02721",
   "metadata": {},
   "outputs": [],
   "source": [
    "async def _step(page):\n",
    "    await page.goto(child_pad_url)\n",
    "    await page.wait_for_load_state('networkidle')\n",
    "    await expect(page).to_have_title(re.compile(f\"^{child_pad_renamed_title}\"))\n",
    "\n",
    "    inner_docbody = await extract_ace_inner_docbody(page)\n",
    "    await expect(inner_docbody).to_contain_text(child_pad_renamed_title, timeout=transition_timeout)\n",
    "    await expect(inner_docbody).not_to_contain_text(child_pad_title)\n",
    "\n",
    "await run_pw(_step)"
   ]
  },
  {
   "cell_type": "markdown",
   "id": "133ceb8f",
   "metadata": {},
   "source": [
    "## Create HierarchyRootRenamed/SubPad2 from the index."
   ]
  },
  {
   "cell_type": "code",
   "execution_count": null,
   "id": "53ccdd47",
   "metadata": {},
   "outputs": [],
   "source": [
    "async def _step(page):\n",
    "    await page.goto(etherpad_url)\n",
    "    await page.wait_for_load_state('networkidle')\n",
    "    await expect(page.locator('.hashview-search-box')).to_be_editable()\n",
    "\n",
    "    await page.locator('.hashview-search-box').fill(additional_child_pad_title)\n",
    "    await expect(page.locator('//button[text()=\"Create\"]')).to_be_enabled()\n",
    "\n",
    "    popup_future = page.wait_for_event('popup')\n",
    "    await page.locator('//button[text()=\"Create\"]').click()\n",
    "    popup = await popup_future\n",
    "    await popup.wait_for_load_state('networkidle')\n",
    "    await expect(popup).to_have_title(re.compile(f\"^{additional_child_pad_title}\"))\n",
    "\n",
    "    global additional_child_pad_url\n",
    "    additional_child_pad_url = popup.url\n",
    "    return popup\n",
    "\n",
    "await run_pw(_step)"
   ]
  },
  {
   "cell_type": "markdown",
   "id": "5e08c473",
   "metadata": {},
   "source": [
    "## Ensure HierarchyRootRenamed lists both child pads."
   ]
  },
  {
   "cell_type": "code",
   "execution_count": null,
   "id": "9d5c1c38",
   "metadata": {},
   "outputs": [],
   "source": [
    "async def _step(page):\n",
    "    await page.goto(root_pad_url)\n",
    "    await page.wait_for_load_state('networkidle')\n",
    "    await expect(page).to_have_title(re.compile(f\"^{root_pad_renamed_title}\"))\n",
    "\n",
    "    # Child pages: 2 pages(SubPad and SubPad2) + Hash Link: 1 page(SubPad renamed)\n",
    "    await expect(page.locator('.hash-link .hash-title a', has_text=child_pad_renamed_title)).to_have_count(3, timeout=transition_timeout)\n",
    "    await expect(page.locator('.hash-link .hash-title a', has_text=additional_child_pad_title)).to_be_visible(timeout=transition_timeout)\n",
    "\n",
    "    await page.goto(additional_child_pad_url)\n",
    "    await page.wait_for_load_state('networkidle')\n",
    "    await expect(page).to_have_title(re.compile(f\"^{additional_child_pad_title}\"))\n",
    "\n",
    "await run_pw(_step)"
   ]
  },
  {
   "cell_type": "markdown",
   "id": "67efe4b9",
   "metadata": {},
   "source": [
    "Clean up"
   ]
  },
  {
   "cell_type": "code",
   "execution_count": null,
   "id": "15506d2f",
   "metadata": {},
   "outputs": [],
   "source": [
    "await finish_pw_context()"
   ]
  },
  {
   "cell_type": "code",
   "execution_count": null,
   "id": "449aff97",
   "metadata": {},
   "outputs": [],
   "source": [
    "!rm -fr {work_dir}"
   ]
  }
 ],
 "metadata": {
  "kernelspec": {
   "display_name": "3.11.5",
   "language": "python",
   "name": "python3"
  },
  "language_info": {
   "codemirror_mode": {
    "name": "ipython",
    "version": 3
   },
   "file_extension": ".py",
   "mimetype": "text/x-python",
   "name": "python",
   "nbconvert_exporter": "python",
   "pygments_lexer": "ipython3",
   "version": "3.11.5"
  }
 },
 "nbformat": 4,
 "nbformat_minor": 5
}
